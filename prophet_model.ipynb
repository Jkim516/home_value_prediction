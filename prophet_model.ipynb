{
 "cells": [
  {
   "cell_type": "code",
   "execution_count": 10,
   "metadata": {},
   "outputs": [],
   "source": [
    "import numpy as np\n",
    "import pandas as pd\n",
    "%matplotlib inline\n",
    "import matplotlib.pyplot as plt\n",
    "import warnings\n",
    "warnings.filterwarnings('ignore')\n",
    "\n",
    "import matplotlib\n",
    "import seaborn as sns\n",
    "%matplotlib inline\n",
    "from matplotlib.pylab import rcParams\n",
    "plt.style.use('fivethirtyeight')\n",
    "\n",
    "from fbprophet import Prophet as proph"
   ]
  },
  {
   "cell_type": "code",
   "execution_count": 2,
   "metadata": {},
   "outputs": [],
   "source": [
    "zipcodes_df = pd.read_csv('zillow_data.csv')"
   ]
  },
  {
   "cell_type": "code",
   "execution_count": 3,
   "metadata": {},
   "outputs": [],
   "source": [
    "yearly_df = zipcodes_df.loc[:, '1996-04':'2018-04']"
   ]
  },
  {
   "cell_type": "code",
   "execution_count": 4,
   "metadata": {},
   "outputs": [],
   "source": [
    "def get_datetimes(df):\n",
    "    return pd.to_datetime(df.columns.values[1:], format='%Y-%m')"
   ]
  },
  {
   "cell_type": "code",
   "execution_count": 6,
   "metadata": {},
   "outputs": [],
   "source": [
    "def melt_data(df):\n",
    "    mdf = pd.melt(df, id_vars=['RegionName', 'City', 'Metro', 'State', 'CountyName', 'SizeRank'], \n",
    "                 value_vars = df.loc[:, '1996-04':'2018-04'], value_name = 'Value', var_name = 'Date')\n",
    "    mdf_cleaned = mdf.dropna(subset=['Value', 'Metro'])\n",
    "    return mdf_cleaned"
   ]
  },
  {
   "cell_type": "code",
   "execution_count": 7,
   "metadata": {},
   "outputs": [],
   "source": [
    "df = melt_data(zipcodes_df)\n",
    "# df.head()"
   ]
  },
  {
   "cell_type": "code",
   "execution_count": 8,
   "metadata": {},
   "outputs": [
    {
     "name": "stdout",
     "output_type": "stream",
     "text": [
      "<class 'pandas.core.frame.DataFrame'>\n",
      "Int64Index: 3508681 entries, 0 to 3901594\n",
      "Data columns (total 8 columns):\n",
      "RegionName    int64\n",
      "City          object\n",
      "Metro         object\n",
      "State         object\n",
      "CountyName    object\n",
      "SizeRank      int64\n",
      "Date          object\n",
      "Value         float64\n",
      "dtypes: float64(1), int64(2), object(5)\n",
      "memory usage: 240.9+ MB\n"
     ]
    }
   ],
   "source": [
    "df.info()"
   ]
  },
  {
   "cell_type": "code",
   "execution_count": 9,
   "metadata": {},
   "outputs": [
    {
     "data": {
      "text/plain": [
       "RegionName    0\n",
       "City          0\n",
       "Metro         0\n",
       "State         0\n",
       "CountyName    0\n",
       "SizeRank      0\n",
       "Date          0\n",
       "Value         0\n",
       "dtype: int64"
      ]
     },
     "execution_count": 9,
     "metadata": {},
     "output_type": "execute_result"
    }
   ],
   "source": [
    "df.isna().sum()"
   ]
  },
  {
   "cell_type": "code",
   "execution_count": 12,
   "metadata": {},
   "outputs": [],
   "source": [
    "df.Date = pd.to_datetime(df.Date)\n",
    "df_since1996 = df.set_index('Date')"
   ]
  },
  {
   "cell_type": "markdown",
   "metadata": {},
   "source": [
    "## Dataframe"
   ]
  },
  {
   "cell_type": "code",
   "execution_count": 15,
   "metadata": {},
   "outputs": [
    {
     "data": {
      "text/html": [
       "<div>\n",
       "<style scoped>\n",
       "    .dataframe tbody tr th:only-of-type {\n",
       "        vertical-align: middle;\n",
       "    }\n",
       "\n",
       "    .dataframe tbody tr th {\n",
       "        vertical-align: top;\n",
       "    }\n",
       "\n",
       "    .dataframe thead th {\n",
       "        text-align: right;\n",
       "    }\n",
       "</style>\n",
       "<table border=\"1\" class=\"dataframe\">\n",
       "  <thead>\n",
       "    <tr style=\"text-align: right;\">\n",
       "      <th></th>\n",
       "      <th>RegionName</th>\n",
       "      <th>Date</th>\n",
       "      <th>Value</th>\n",
       "    </tr>\n",
       "  </thead>\n",
       "  <tbody>\n",
       "    <tr>\n",
       "      <th>0</th>\n",
       "      <td>60657</td>\n",
       "      <td>1996-04-01</td>\n",
       "      <td>334200.0</td>\n",
       "    </tr>\n",
       "    <tr>\n",
       "      <th>1</th>\n",
       "      <td>75070</td>\n",
       "      <td>1996-04-01</td>\n",
       "      <td>235700.0</td>\n",
       "    </tr>\n",
       "    <tr>\n",
       "      <th>2</th>\n",
       "      <td>77494</td>\n",
       "      <td>1996-04-01</td>\n",
       "      <td>210400.0</td>\n",
       "    </tr>\n",
       "    <tr>\n",
       "      <th>3</th>\n",
       "      <td>60614</td>\n",
       "      <td>1996-04-01</td>\n",
       "      <td>498100.0</td>\n",
       "    </tr>\n",
       "    <tr>\n",
       "      <th>4</th>\n",
       "      <td>79936</td>\n",
       "      <td>1996-04-01</td>\n",
       "      <td>77300.0</td>\n",
       "    </tr>\n",
       "  </tbody>\n",
       "</table>\n",
       "</div>"
      ],
      "text/plain": [
       "   RegionName       Date     Value\n",
       "0       60657 1996-04-01  334200.0\n",
       "1       75070 1996-04-01  235700.0\n",
       "2       77494 1996-04-01  210400.0\n",
       "3       60614 1996-04-01  498100.0\n",
       "4       79936 1996-04-01   77300.0"
      ]
     },
     "execution_count": 15,
     "metadata": {},
     "output_type": "execute_result"
    }
   ],
   "source": [
    "df_1 = df[['RegionName', 'Date', 'Value']]\n",
    "df_1.set_index('Date')\n",
    "df_1.head()"
   ]
  },
  {
   "cell_type": "code",
   "execution_count": 72,
   "metadata": {},
   "outputs": [
    {
     "data": {
      "text/plain": [
       "357200.0"
      ]
     },
     "execution_count": 72,
     "metadata": {},
     "output_type": "execute_result"
    }
   ],
   "source": [
    "df_1['Value'].iloc[-1]"
   ]
  },
  {
   "cell_type": "markdown",
   "metadata": {},
   "source": [
    "## Prophet"
   ]
  },
  {
   "cell_type": "code",
   "execution_count": 90,
   "metadata": {},
   "outputs": [],
   "source": [
    "def subset_zipcode(zipcode, df):\n",
    "    df_12 = df.copy()\n",
    "    df_12 = df_12[df_12['RegionName'] == zipcode]\n",
    "    df_12.drop(columns=['RegionName'], inplace=True)\n",
    "    df_12.rename(columns={'Date': 'ds', 'Value': 'y'}, inplace=True)\n",
    "    return df_12\n"
   ]
  },
  {
   "cell_type": "code",
   "execution_count": 91,
   "metadata": {},
   "outputs": [
    {
     "name": "stderr",
     "output_type": "stream",
     "text": [
      "INFO:fbprophet:Disabling weekly seasonality. Run prophet with weekly_seasonality=True to override this.\n",
      "INFO:fbprophet:Disabling daily seasonality. Run prophet with daily_seasonality=True to override this.\n",
      "INFO:fbprophet:Disabling weekly seasonality. Run prophet with weekly_seasonality=True to override this.\n",
      "INFO:fbprophet:Disabling daily seasonality. Run prophet with daily_seasonality=True to override this.\n"
     ]
    }
   ],
   "source": [
    "def prophet_m(zipcode, df):   \n",
    "    Model = proph(interval_width=0.95) \n",
    "    date_value_df = subset_zipcode(zipcode, df)\n",
    "    Model.fit(date_value_df)\n",
    "    future_dates = Model.make_future_dataframe(periods=12, freq='MS')\n",
    "    forecast = Model.predict(future_dates).tail(1)\n",
    "    \n",
    "    \n",
    "    ds = forecast['ds'].iloc[0]\n",
    "    y_hat = forecast['yhat'].values[0]\n",
    "    y_hat_lower = forecast['yhat_lower'].values[0]\n",
    "    y_hat_upper = forecast['yhat_upper'].values[0]\n",
    "    current_price = date_value_df['y'].iloc[-1]\n",
    "\n",
    "    return (ds, y_hat, y_hat_lower, y_hat_upper, current_price)\n",
    "\n",
    "#zipcodes = df_1['RegionName'].unique()\n",
    "zipcodes = [60657, 75070]\n",
    "predictions = []\n",
    "for zipcode in zipcodes:\n",
    "    ds, y_hat, y_hat_lower, y_hat_upper, current_price = prophet_m(zipcode, df_1) #(current $, predicted $, upper, lower)\n",
    "    predictions.append({'zip': zipcode,\n",
    "                        'ds': ds,\n",
    "                        'y_hat': y_hat,\n",
    "                        'y_hat_lower': y_hat_lower,\n",
    "                        'y_hat_upper': y_hat_upper,\n",
    "                        'current_price': current_price})\n"
   ]
  },
  {
   "cell_type": "code",
   "execution_count": 87,
   "metadata": {},
   "outputs": [],
   "source": [
    "df = pd.DataFrame(predictions)"
   ]
  },
  {
   "cell_type": "code",
   "execution_count": 88,
   "metadata": {},
   "outputs": [],
   "source": [
    "df['diff'] = df['y_hat'] - df['current_price'] "
   ]
  },
  {
   "cell_type": "code",
   "execution_count": 89,
   "metadata": {},
   "outputs": [
    {
     "data": {
      "text/html": [
       "<div>\n",
       "<style scoped>\n",
       "    .dataframe tbody tr th:only-of-type {\n",
       "        vertical-align: middle;\n",
       "    }\n",
       "\n",
       "    .dataframe tbody tr th {\n",
       "        vertical-align: top;\n",
       "    }\n",
       "\n",
       "    .dataframe thead th {\n",
       "        text-align: right;\n",
       "    }\n",
       "</style>\n",
       "<table border=\"1\" class=\"dataframe\">\n",
       "  <thead>\n",
       "    <tr style=\"text-align: right;\">\n",
       "      <th></th>\n",
       "      <th>current_price</th>\n",
       "      <th>ds</th>\n",
       "      <th>y_hat</th>\n",
       "      <th>y_hat_lower</th>\n",
       "      <th>y_hat_upper</th>\n",
       "      <th>zip</th>\n",
       "      <th>diff</th>\n",
       "    </tr>\n",
       "  </thead>\n",
       "  <tbody>\n",
       "    <tr>\n",
       "      <th>0</th>\n",
       "      <td>1030600.0</td>\n",
       "      <td>2019-04-01</td>\n",
       "      <td>1.078485e+06</td>\n",
       "      <td>1.042142e+06</td>\n",
       "      <td>1.114831e+06</td>\n",
       "      <td>60657</td>\n",
       "      <td>47884.655975</td>\n",
       "    </tr>\n",
       "    <tr>\n",
       "      <th>1</th>\n",
       "      <td>321800.0</td>\n",
       "      <td>2019-04-01</td>\n",
       "      <td>3.498423e+05</td>\n",
       "      <td>3.372539e+05</td>\n",
       "      <td>3.617333e+05</td>\n",
       "      <td>75070</td>\n",
       "      <td>28042.334751</td>\n",
       "    </tr>\n",
       "  </tbody>\n",
       "</table>\n",
       "</div>"
      ],
      "text/plain": [
       "   current_price         ds         y_hat   y_hat_lower   y_hat_upper    zip  \\\n",
       "0      1030600.0 2019-04-01  1.078485e+06  1.042142e+06  1.114831e+06  60657   \n",
       "1       321800.0 2019-04-01  3.498423e+05  3.372539e+05  3.617333e+05  75070   \n",
       "\n",
       "           diff  \n",
       "0  47884.655975  \n",
       "1  28042.334751  "
      ]
     },
     "execution_count": 89,
     "metadata": {},
     "output_type": "execute_result"
    }
   ],
   "source": [
    "df.sort_values(by='diff', ascending=False)\n",
    "\n"
   ]
  },
  {
   "cell_type": "code",
   "execution_count": null,
   "metadata": {},
   "outputs": [],
   "source": [
    "predictions.append({'zip': zipcode, 'ds': ds, 'y_hat', ...})"
   ]
  },
  {
   "cell_type": "code",
   "execution_count": 56,
   "metadata": {},
   "outputs": [
    {
     "data": {
      "text/plain": [
       "Timestamp('2019-04-01 00:00:00')"
      ]
     },
     "execution_count": 56,
     "metadata": {},
     "output_type": "execute_result"
    }
   ],
   "source": [
    "predictions[0]['ds'].iloc[0]"
   ]
  },
  {
   "cell_type": "code",
   "execution_count": null,
   "metadata": {},
   "outputs": [],
   "source": []
  },
  {
   "cell_type": "code",
   "execution_count": null,
   "metadata": {},
   "outputs": [],
   "source": []
  },
  {
   "cell_type": "code",
   "execution_count": null,
   "metadata": {},
   "outputs": [],
   "source": []
  },
  {
   "cell_type": "code",
   "execution_count": null,
   "metadata": {},
   "outputs": [],
   "source": []
  }
 ],
 "metadata": {
  "kernelspec": {
   "display_name": "Python [conda env:learn-env] *",
   "language": "python",
   "name": "conda-env-learn-env-py"
  },
  "language_info": {
   "codemirror_mode": {
    "name": "ipython",
    "version": 3
   },
   "file_extension": ".py",
   "mimetype": "text/x-python",
   "name": "python",
   "nbconvert_exporter": "python",
   "pygments_lexer": "ipython3",
   "version": "3.6.6"
  }
 },
 "nbformat": 4,
 "nbformat_minor": 2
}
